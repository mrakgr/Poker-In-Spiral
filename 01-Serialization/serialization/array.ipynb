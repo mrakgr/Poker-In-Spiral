{
 "metadata": {
  "language_info": {
   "codemirror_mode": {
    "name": "ipython",
    "version": 3
   },
   "file_extension": ".py",
   "mimetype": "text/x-python",
   "name": "python",
   "nbconvert_exporter": "python",
   "pygments_lexer": "ipython3",
   "version": "3.8.5"
  },
  "orig_nbformat": 4,
  "kernelspec": {
   "name": "python3",
   "display_name": "Python 3.8.5 64-bit ('base': conda)"
  },
  "interpreter": {
   "hash": "79a665661ef98a947020a19d2e5dd611db5fb8b6a61ad99111457019763c8719"
  }
 },
 "nbformat": 4,
 "nbformat_minor": 2,
 "cells": [
  {
   "cell_type": "markdown",
   "source": [
    "# Intro To Serialization and Pickler Combinators\r\n",
    "\r\n",
    "While the overall purpose of this series is to cover the creation of a poker agent, this particular segment serves an useful purpose on its own. More than just for poker, if you've ever had trouble writing code to serialize data from some game state to the kinds of floating point tensors that neural nets need to digest, read this tutorial study the code for a bit and those troubles will be a thing of the past.\r\n",
    "\r\n",
    "Pickler combinators are one of the grand functional programming inventions on par with parser combinators that are sadly overlooked by the wider programming community. They work well enough for Python as well.\r\n",
    "\r\n",
    "To start things off, we'll define a PU class to serve as an abstract interface for its inheritors. It will serve to document the two functions Pickler/Unpickler classes need to implement."
   ],
   "metadata": {}
  },
  {
   "cell_type": "code",
   "execution_count": 1,
   "source": [
    "from typing import Literal, Tuple\r\n",
    "\r\n",
    "class PU:\r\n",
    "    def pickle(self,x,i : int,ar) -> None: \r\n",
    "        \"\"\"\r\n",
    "        Serialized the object 'x' by setting the relevant fields of 'ar' to 1.\r\n",
    "        \r\n",
    "        x - Composite object to be serialized.\r\n",
    "\r\n",
    "        i - Starting position of array 'ar'.\r\n",
    "\r\n",
    "        ar - An 1d array. Can be anything satisfying the array interface constraints.\r\n",
    "        \"\"\"\r\n",
    "        raise NotImplementedError()\r\n",
    "        \r\n",
    "    def unpickle(self,i : int,ar) -> Tuple[object,Literal[1, 0]]:\r\n",
    "        \"\"\"\r\n",
    "        Deserializes the object from the array 'ar'. Returns the deserialized part\r\n",
    "        of the object for that particular unpickler and 1/0 whether the unpickling has succeeded.\r\n",
    "\r\n",
    "        x - Composite object to be serialized.\r\n",
    "\r\n",
    "        i - Starting position of array 'ar'.\r\n",
    "        \"\"\"\r\n",
    "        raise NotImplementedError()"
   ],
   "outputs": [],
   "metadata": {}
  },
  {
   "cell_type": "markdown",
   "source": [
    "The abstract interface above is what all the pickler combinators will follow and is mostly there for documentation purposes. We need a primitive combinator for integers, and then composite combinators for tuples and for union types. And since union types might have cases with no fields, it is easiest to start with the union combinator."
   ],
   "metadata": {}
  },
  {
   "cell_type": "code",
   "execution_count": 2,
   "source": [
    "def serialize(schema : PU,x):\r\n",
    "    ar = [0] * schema.size\r\n",
    "    schema.pickle(x,0,ar)\r\n",
    "    return ar\r\n",
    "\r\n",
    "def deserialize(schema : PU,ar):\r\n",
    "    x,c = schema.unpickle(0,ar)\r\n",
    "    if c != 1: raise Exception(\"Invalid format.\")\r\n",
    "    return x"
   ],
   "outputs": [],
   "metadata": {}
  },
  {
   "cell_type": "markdown",
   "source": [
    "Before that, here are the helpers to actually run the combinators. `serialize` takes in the combinator and the input and produces the pickled binary array. `deserialize` does the opposite."
   ],
   "metadata": {}
  },
  {
   "cell_type": "code",
   "execution_count": 3,
   "source": [
    "def round_trip_assert(schema : PU,x):\r\n",
    "    assert x == deserialize(schema,serialize(schema,x)), \"PU round trip failed.\""
   ],
   "outputs": [],
   "metadata": {}
  },
  {
   "cell_type": "markdown",
   "source": [
    " \n",
    "\n",
    "An easy way to make sure that the serializers work is to do a round trip, serializing and deserializing them back and comparing the values."
   ],
   "metadata": {}
  },
  {
   "cell_type": "code",
   "execution_count": 4,
   "source": [
    "class Unit(PU):\r\n",
    "    def __init__(self) -> None:\r\n",
    "        super().__init__()\r\n",
    "        self.size = 1\r\n",
    "        \r\n",
    "    def pickle(self,x : Tuple[()],i,ar): \r\n",
    "        assert x == (), \"The input to this should be a an empty tuple.\"\r\n",
    "        ar[i] = 1\r\n",
    "\r\n",
    "    def unpickle(self,i,ar):\r\n",
    "        x = ar[i]\r\n",
    "        assert x == 0 or x == 1, \"Unpickling failure. The unit type should always be either be active or inactive.\"\r\n",
    "        return (), int(x)"
   ],
   "outputs": [],
   "metadata": {}
  },
  {
   "cell_type": "code",
   "execution_count": 5,
   "source": [
    "print(serialize(Unit(),()))"
   ],
   "outputs": [
    {
     "output_type": "execute_result",
     "data": {
      "text/plain": [
       "[1]"
      ]
     },
     "metadata": {},
     "execution_count": 5
    }
   ],
   "metadata": {}
  },
  {
   "cell_type": "markdown",
   "source": [
    "This combinator isn't very interesting as it just produces the [1] array."
   ],
   "metadata": {}
  },
  {
   "cell_type": "code",
   "execution_count": 6,
   "source": [
    "round_trip_assert(Unit(),())"
   ],
   "outputs": [],
   "metadata": {}
  },
  {
   "cell_type": "markdown",
   "source": [
    "Since running the above does not raise an exception, we have some basic assurance that the serialization is correct.\r\n",
    "\r\n",
    "The next will be a PU combinator for representing integers in the one-hot format."
   ],
   "metadata": {}
  },
  {
   "cell_type": "code",
   "execution_count": 7,
   "source": [
    "class Int(PU):\r\n",
    "    def __init__(self,size : int) -> None:\r\n",
    "        super().__init__()\r\n",
    "        self.size = size\r\n",
    "\r\n",
    "    def pickle(self,x : int,i,ar):\r\n",
    "        assert 0 <= x < self.size, f'Pickling failure. Int value out of bounds. Got: {x} Size: {self.size}'\r\n",
    "        ar[i + x] = 1\r\n",
    "        \r\n",
    "    def unpickle(self,i_start,ar):\r\n",
    "        case,c = 0,0\r\n",
    "        for i in range(i_start,i_start+self.size):\r\n",
    "            x = ar[i]\r\n",
    "            assert x == 0 or x == 1, \"Unpickling failure. The int type must either be active or inactive.\"\r\n",
    "            if x == 1: case,c = i,c+1\r\n",
    "        assert c == 0 or c == 1, \"Unpickling failure. Too many active indices in the one-hot vector.\"\r\n",
    "        return case-i_start,c"
   ],
   "outputs": [],
   "metadata": {}
  },
  {
   "cell_type": "markdown",
   "source": [
    "During serialization, the int combinator sets the array to 1 at the given index plus the element. Deserialization is a bit harder as it needs to find the index of that 1 by iterating over all the elements. Since we need to account for the union types, it could also be that case that all the elements are zero. Lastly we need to account for the possibility of the array having trash data and assert that all elements are either 0 or 1.\r\n",
    "\r\n",
    "This combinator has interesting functionality. "
   ],
   "metadata": {}
  },
  {
   "cell_type": "code",
   "execution_count": 8,
   "source": [
    "print(serialize(Int(5),1))\r\n",
    "print(serialize(Int(7),5))"
   ],
   "outputs": [
    {
     "output_type": "stream",
     "name": "stdout",
     "text": [
      "[0, 1, 0, 0, 0]\n",
      "[0, 0, 0, 0, 0, 1, 0]\n"
     ]
    }
   ],
   "metadata": {}
  },
  {
   "cell_type": "code",
   "execution_count": 9,
   "source": [
    "round_trip_assert(Int(5),1)\r\n",
    "round_trip_assert(Int(7),5)"
   ],
   "outputs": [],
   "metadata": {}
  },
  {
   "cell_type": "markdown",
   "source": [
    "No exception gets raised. Serializing integers to the one hot format is the simplest kind of serialization, but it is very useful. For the poker games, I use it for card ranks and suits for example. It could be used for stack size if they are sufficiently small, but for those it would be better to have a proper binary serializer. Here it is."
   ],
   "metadata": {}
  },
  {
   "cell_type": "code",
   "execution_count": 10,
   "source": [
    "class BinInt(PU):\r\n",
    "    \"\"\"\r\n",
    "    Unlike int which stores the value as a one-hot vector, this one stores it as a binary value.\r\n",
    "    The value 0 is stored as 1, 1 as 2 and so on. During unpickling the zero vector is considered inactive.\r\n",
    "    The max value is taken up by that inactive vactor. Hence the actual capacity is\r\n",
    "    `2 ** size - 1` rather than `2 ** size`.\r\n",
    "    \"\"\"\r\n",
    "    def __init__(self,size : int) -> None:\r\n",
    "        super().__init__()\r\n",
    "        assert 1 <= size <= 62, \"The field size has to be in the [1,62] range.\"\r\n",
    "        self.x_nearTo = 2 ** size - 1\r\n",
    "        self.size = size\r\n",
    "\r\n",
    "    def pickle(self,x : int,i_start,ar):\r\n",
    "        assert 0 <= x < self.x_nearTo, f'Pickle failure. Bin int value out of bounds. Got: {x} Size: {self.x_nearTo}'\r\n",
    "        x += 1\r\n",
    "        for i in range(self.size):\r\n",
    "            q = 1 << (self.size - i - 1)\r\n",
    "            ar[i_start + i] = x // q\r\n",
    "            x %= q\r\n",
    "            \r\n",
    "    def unpickle(self,i_start,ar):\r\n",
    "        r = 0\r\n",
    "        for i in range(self.size):\r\n",
    "            x = ar[i_start+i]\r\n",
    "            assert x == 0 or x == 1, \"Unpickling failure. The bin int type must either be active or inactive.\"\r\n",
    "            r += int(x) << (self.size - i - 1)\r\n",
    "        return r-1, (1 if 0 < r else 0)"
   ],
   "outputs": [],
   "metadata": {}
  },
  {
   "cell_type": "markdown",
   "source": [
    "This one is similar to the Int serializer, except it uses the binary rather than the one-hot format and so is exponentially more efficient in the size of the input element.\r\n",
    "\r\n",
    "Here are is an example of it in use."
   ],
   "metadata": {}
  },
  {
   "cell_type": "code",
   "execution_count": 11,
   "source": [
    "print([serialize(BinInt(10),i) for i in [0,1,5,123,654]])"
   ],
   "outputs": [
    {
     "output_type": "execute_result",
     "data": {
      "text/plain": [
       "[[0, 0, 0, 0, 0, 0, 0, 0, 0, 1],\n",
       " [0, 0, 0, 0, 0, 0, 0, 0, 1, 0],\n",
       " [0, 0, 0, 0, 0, 0, 0, 1, 1, 0],\n",
       " [0, 0, 0, 1, 1, 1, 1, 1, 0, 0],\n",
       " [1, 0, 1, 0, 0, 0, 1, 1, 1, 1]]"
      ]
     },
     "metadata": {},
     "execution_count": 11
    }
   ],
   "metadata": {}
  },
  {
   "cell_type": "code",
   "execution_count": 12,
   "source": [
    "for i in [0,1,5,123,654]: round_trip_assert(BinInt(10),i)"
   ],
   "outputs": [],
   "metadata": {}
  },
  {
   "cell_type": "markdown",
   "source": [
    "The round trip test works fine. The next combinator is the first composite one."
   ],
   "metadata": {}
  },
  {
   "cell_type": "code",
   "execution_count": 13,
   "source": [
    "class Tuple(PU):\r\n",
    "    def __init__(self,*pus) -> None:\r\n",
    "        super().__init__()\r\n",
    "        self.size = 0\r\n",
    "        for x in pus: self.size += x.size\r\n",
    "        self.pus = pus\r\n",
    "\r\n",
    "    def pickle(self,xs,i,ar):\r\n",
    "         for x,pu in zip(xs,self.pus): \r\n",
    "            pu.pickle(x,i,ar)\r\n",
    "            i += pu.size\r\n",
    "            \r\n",
    "    def unpickle(self,i,ar):\r\n",
    "        c,l = 0,[]\r\n",
    "        for pu in self.pus: \r\n",
    "            x,c2 = pu.unpickle(i,ar)\r\n",
    "            i += pu.size\r\n",
    "            c += c2\r\n",
    "            l.append(x)\r\n",
    "        assert c == 0 or c == len(self.pus), \"Unpickling failure. The tuple should have all of its elements be either active or inactive.\"\r\n",
    "        return tuple(l), 0 if c == 0 else 1"
   ],
   "outputs": [],
   "metadata": {}
  },
  {
   "cell_type": "markdown",
   "source": [
    "What this does is allows PU combinators to be composed as tuples. As all datatypes can be mapped to either tuples or unions once we have those two, we will have unfetted freedom of serialization.\r\n",
    "\r\n",
    "Its use is fairly simple."
   ],
   "metadata": {}
  },
  {
   "cell_type": "code",
   "execution_count": 14,
   "source": [
    "print(serialize(Tuple(Int(5),BinInt(5),Unit()),(2,29,())))"
   ],
   "outputs": [
    {
     "output_type": "execute_result",
     "data": {
      "text/plain": [
       "[0, 0, 1, 0, 0, 1, 1, 1, 1, 0, 1]"
      ]
     },
     "metadata": {},
     "execution_count": 14
    }
   ],
   "metadata": {}
  },
  {
   "cell_type": "markdown",
   "source": [
    "Here is a more motivated example."
   ],
   "metadata": {}
  },
  {
   "cell_type": "code",
   "execution_count": 15,
   "source": [
    "suit = Int(4)\r\n",
    "rank = Int(13)\r\n",
    "card = Tuple(suit,rank)\r\n",
    "stack = BinInt(7)\r\n",
    "print(serialize(Tuple(stack,card,card),(100,(0,0),(1,0))))"
   ],
   "outputs": [
    {
     "output_type": "stream",
     "name": "stdout",
     "text": [
      "[1, 1, 0, 0, 1, 0, 1, 1, 0, 0, 0, 1, 0, 0, 0, 0, 0, 0, 0, 0, 0, 0, 0, 0, 0, 1, 0, 0, 1, 0, 0, 0, 0, 0, 0, 0, 0, 0, 0, 0, 0]\n"
     ]
    }
   ],
   "metadata": {}
  },
  {
   "cell_type": "markdown",
   "source": [
    "Naturally, tuple combinators can be composed with other tuple combinators as shown in the above example. That is what makes them powerful.\r\n",
    "\r\n",
    "Before moving on to unions, one combinator worth covering is the array combinator. In poker, different betting streets have a different number of cards on the table and it would be inefficient to use unions to cover those eventualities."
   ],
   "metadata": {}
  },
  {
   "cell_type": "code",
   "execution_count": 16,
   "source": [
    "class Array(PU):\r\n",
    "    def __init__(self,pu : PU,n : int) -> None:\r\n",
    "        \"\"\"\r\n",
    "        pu - PU for the elements of the array.\r\n",
    "\r\n",
    "        n - The maximum size of the array.\r\n",
    "        \"\"\"\r\n",
    "        super().__init__()\r\n",
    "        self.pu, self.n = pu, n\r\n",
    "        self.size = 1 + self.pu.size * n # The extra field is the emptiness flag which differentiates empty from inactive arrays.\r\n",
    "\r\n",
    "    def pickle(self,xs,i,ar):\r\n",
    "        assert len(xs) <= self.n, \"Pickling failure. The given array is too large.\"\r\n",
    "        if len(xs) == 0: ar[i] = 1\r\n",
    "        i += 1\r\n",
    "        for x in xs: \r\n",
    "            self.pu.pickle(x,i,ar)\r\n",
    "            i += self.pu.size\r\n",
    "            \r\n",
    "    def unpickle(self,i,ar):\r\n",
    "        c_empty = ar[i]\r\n",
    "        assert c_empty == 0 or c_empty == 1, \"Unpickling failure. The array emptiness flag should be 1 or 0.\"\r\n",
    "        c_empty = int(c_empty)\r\n",
    "        i += 1\r\n",
    "\r\n",
    "        xs = []\r\n",
    "        for j in range(self.n):\r\n",
    "            x,c_sub = self.pu.unpickle(i,ar)\r\n",
    "            if j == len(xs):\r\n",
    "                if c_sub == 1: xs.append(x) \r\n",
    "            else:\r\n",
    "                assert c_sub == 0, \"Unpickling failure. Expected an inactive subsequence in the array unpickler.\"\r\n",
    "            i += self.pu.size\r\n",
    "        assert not (c_empty == 1 and 0 < len(xs)), \"Unpickling failure. Empty arrays should not have active elements.\"\r\n",
    "        return xs, c_empty | min(1,len(xs))"
   ],
   "outputs": [],
   "metadata": {}
  },
  {
   "cell_type": "markdown",
   "source": [
    "The array combinator needs some extra complexity to differentiate between inactive and empty arrays. During unpickling also needs to check that after the first inactive elements, no more active elements come up.\r\n",
    "\r\n",
    "Here is an example of them in action."
   ],
   "metadata": {}
  },
  {
   "cell_type": "code",
   "execution_count": 17,
   "source": [
    "suit = Int(4)\r\n",
    "rank = Int(13)\r\n",
    "card = Tuple(suit,rank)\r\n",
    "stack = BinInt(7)\r\n",
    "board = Array(card,5)\r\n",
    "print(serialize(Tuple(stack,card,card,board),(100,(0,0),(1,0),[(2,0),(3,0),(1,5),(2,2),(0,11)])))"
   ],
   "outputs": [
    {
     "output_type": "stream",
     "name": "stdout",
     "text": [
      "[1, 1, 0, 0, 1, 0, 1, 1, 0, 0, 0, 1, 0, 0, 0, 0, 0, 0, 0, 0, 0, 0, 0, 0, 0, 1, 0, 0, 1, 0, 0, 0, 0, 0, 0, 0, 0, 0, 0, 0, 0, 0, 0, 0, 1, 0, 1, 0, 0, 0, 0, 0, 0, 0, 0, 0, 0, 0, 0, 0, 0, 0, 1, 1, 0, 0, 0, 0, 0, 0, 0, 0, 0, 0, 0, 0, 0, 1, 0, 0, 0, 0, 0, 0, 0, 1, 0, 0, 0, 0, 0, 0, 0, 0, 0, 1, 0, 0, 0, 1, 0, 0, 0, 0, 0, 0, 0, 0, 0, 0, 1, 0, 0, 0, 0, 0, 0, 0, 0, 0, 0, 0, 0, 0, 0, 1, 0]\n"
     ]
    }
   ],
   "metadata": {}
  },
  {
   "cell_type": "markdown",
   "source": [
    "The number of cards passed into the array can be varied between 0 and 5 in the above example.\r\n",
    "\r\n",
    "The next is the union combinator."
   ],
   "metadata": {}
  },
  {
   "cell_type": "code",
   "execution_count": 18,
   "source": [
    "class Union(PU):\r\n",
    "    def __init__(self,*pus) -> None:\r\n",
    "        super().__init__()\r\n",
    "        assert 0 < len(pus), \"The number of cases in `pus` should be greater than zero.\"\r\n",
    "        self.pus = pus\r\n",
    "        self.size = 0\r\n",
    "        for ins,pu in pus: self.size += pu.size\r\n",
    "\r\n",
    "    def pickle(self,x,i,ar):\r\n",
    "        for ins,pu in self.pus:\r\n",
    "            if isinstance(x,ins):\r\n",
    "                pu.pickle(x.data,i,ar)\r\n",
    "                return\r\n",
    "            i += pu.size\r\n",
    "        raise Exception(\"The input does not match the schema.\")\r\n",
    "\r\n",
    "    def unpickle(self,i,ar):\r\n",
    "        r,c = None,0\r\n",
    "        for ins,pu in self.pus:\r\n",
    "            x,c2 = pu.unpickle(i,ar)\r\n",
    "            assert not (c == 1 and c2 == 1), \"Only one case of the union should be active.\"\r\n",
    "            if c2 == 1: \r\n",
    "                r = ins(x)\r\n",
    "                c = 1\r\n",
    "            i += pu.size\r\n",
    "        return r,c"
   ],
   "outputs": [],
   "metadata": {}
  },
  {
   "cell_type": "markdown",
   "source": [
    "In constrast to the tuple combinator which serializes all the elements of a tuple, the union combinator selects one of the elements from a list of cases. This is good for serializing actions."
   ],
   "metadata": {}
  },
  {
   "cell_type": "code",
   "execution_count": 19,
   "source": [
    "class UnionData:\r\n",
    "    def __init__(self,*data) -> None: \r\n",
    "        if len(data) == 1: self.data = data[0]\r\n",
    "        else: self.data = data\r\n",
    "    def __eq__(self,o: object) -> bool: return self.data == o.data"
   ],
   "outputs": [],
   "metadata": {}
  },
  {
   "cell_type": "markdown",
   "source": [
    "This is the base type from which the union cases inherit. It is necessary that they be compare their data fields through equality rather than directly. Here is the union combinator in action."
   ],
   "metadata": {}
  },
  {
   "cell_type": "code",
   "execution_count": 20,
   "source": [
    "class Fold(UnionData): pass\r\n",
    "class Call(UnionData): pass\r\n",
    "class Raise(UnionData): pass\r\n",
    "\r\n",
    "action = Union((Fold,Unit()),(Call,Unit()),(Raise,Unit()))\r\n",
    "card = Int(3)\r\n",
    "street = Tuple(card,Array(action,4))\r\n",
    "streets = Array(street,2)\r\n",
    "\r\n",
    "args = streets,[\r\n",
    "    (0,[Call(),Raise(),Raise(),Call()]),\r\n",
    "    (2,[Call()])\r\n",
    "    ]\r\n",
    "print(serialize(*args))\r\n",
    "round_trip_assert(*args)"
   ],
   "outputs": [
    {
     "output_type": "stream",
     "name": "stdout",
     "text": [
      "[0, 1, 0, 0, 0, 0, 1, 0, 0, 0, 1, 0, 0, 1, 0, 1, 0, 0, 0, 1, 0, 0, 1, 0, 0, 0, 0, 0, 0, 0, 0, 0, 0]\n"
     ]
    }
   ],
   "metadata": {}
  },
  {
   "cell_type": "markdown",
   "source": [
    "The above example is what would be needed to serialize to the Leduc game data for a feedforward net. The transformers and RNN which take sequences are easier to deal with as they get passed a sequence of vectors rather than a flattened representation of them."
   ],
   "metadata": {}
  },
  {
   "cell_type": "code",
   "execution_count": 21,
   "source": [
    "class Fold(UnionData): pass\r\n",
    "class Call(UnionData): pass\r\n",
    "class Raise(UnionData): pass\r\n",
    "class Action(UnionData): pass\r\n",
    "class Card(UnionData): pass\r\n",
    "\r\n",
    "action = Union((Fold,Unit()),(Call,Unit()),(Raise,Unit()))\r\n",
    "card = Int(3)\r\n",
    "observation = Union((Card,card),(Action,action))\r\n",
    "\r\n",
    "seq = [\r\n",
    "    Card(0),Action(Call()),Action(Raise()),Action(Raise()),Action(Call()),\r\n",
    "    Card(2),Action(Call())\r\n",
    "    ]\r\n",
    "print([serialize(observation,x) for x in seq])\r\n",
    "for x in seq: round_trip_assert(observation,x)"
   ],
   "outputs": [
    {
     "output_type": "stream",
     "name": "stdout",
     "text": [
      "[[1, 0, 0, 0, 0, 0], [0, 0, 0, 0, 1, 0], [0, 0, 0, 0, 0, 1], [0, 0, 0, 0, 0, 1], [0, 0, 0, 0, 1, 0], [0, 0, 1, 0, 0, 0], [0, 0, 0, 0, 1, 0]]\n"
     ]
    }
   ],
   "metadata": {}
  },
  {
   "cell_type": "markdown",
   "source": [
    "There is one more combinator left to do and we are done with the Python `serialization.array` module. It is useful when one want so convert between eqivalent data types. For example, a record `{a:1, b:2}` and a tuple `(1,2)` are equivalent types, but the first one cannot be serialized directly using the given combinators. It is useful for shifting raises up and down and allow the int combinator to be reused for negative values. For example a value in the range [-20,20] can be shifted to [0,40] during serialization by adding 20 on the way in and -20 during deserialization.\r\n",
    "\r\n",
    "In poker the raises do not start at 0. In a given betting street a player might have the option of raising to [40,1000] for example, and during serialization it would be better to shift this to [0,960] for the sake of saving memory."
   ],
   "metadata": {}
  },
  {
   "cell_type": "code",
   "execution_count": 22,
   "source": [
    "class Wrap(PU):\r\n",
    "    def __init__(self,inp,out,pu) -> None:\r\n",
    "        super().__init__()\r\n",
    "        self.inp,self.out,self.pu,self.size = inp,out,pu,pu.size\r\n",
    "\r\n",
    "    def pickle(self,x,i,ar) -> None:\r\n",
    "        self.pu.pickle(self.inp(x),i,ar)\r\n",
    "\r\n",
    "    def unpickle(self,i,ar):\r\n",
    "        x,c = self.pu.unpickle(i,ar)\r\n",
    "        return self.out(x),c"
   ],
   "outputs": [],
   "metadata": {}
  },
  {
   "cell_type": "code",
   "execution_count": 36,
   "source": [
    "rai = Wrap(lambda x: x-2,lambda x: x+2,Int(9))\r\n",
    "xs = [2,5,10]\r\n",
    "print([serialize(rai,x) for x in xs])\r\n",
    "for x in [2,5,10]: round_trip_assert(rai,x)"
   ],
   "outputs": [
    {
     "output_type": "stream",
     "name": "stdout",
     "text": [
      "[[1, 0, 0, 0, 0, 0, 0, 0, 0], [0, 0, 0, 1, 0, 0, 0, 0, 0], [0, 0, 0, 0, 0, 0, 0, 0, 1]]\n"
     ]
    }
   ],
   "metadata": {}
  },
  {
   "cell_type": "code",
   "execution_count": 40,
   "source": [
    "rec = Wrap(lambda x: (x['a'],x['b']),lambda x: {'a':x[0],'b':x[1]},Tuple(Int(5),Int(5)))\r\n",
    "x = {'a':1,'b': 3}\r\n",
    "print(serialize(rec,x))\r\n",
    "round_trip_assert(rec,x)"
   ],
   "outputs": [
    {
     "output_type": "stream",
     "name": "stdout",
     "text": [
      "[0, 1, 0, 0, 0, 0, 0, 0, 1, 0]\n"
     ]
    }
   ],
   "metadata": {}
  },
  {
   "cell_type": "markdown",
   "source": [
    "Years ago when I tried serializing game data to the GPU for the first time, I tried hacking things by hand. It is only later that I got introduced pickler combinators and realialized my fooly.\r\n",
    "\r\n",
    "Anyway, the code here is fairly clean in my view - Python is good for prototyping, but there is no doubt that owing to the slowness of the language you'd want to rewrite the above in a faster language for serious workloads. How would it compare to a performant implementation? That will the subject of the next article."
   ],
   "metadata": {}
  }
 ]
}