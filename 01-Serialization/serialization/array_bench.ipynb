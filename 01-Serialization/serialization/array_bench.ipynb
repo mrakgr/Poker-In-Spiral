{
 "cells": [
  {
   "cell_type": "code",
   "execution_count": 2,
   "source": [
    "from timeit import timeit\r\n",
    "from array_lib import UnionData,Union,Unit,Int,Tuple,Array,serialize\r\n",
    "\r\n",
    "class Fold(UnionData): pass\r\n",
    "class Call(UnionData): pass\r\n",
    "class Raise(UnionData): pass\r\n",
    "\r\n",
    "action = Union((Fold,Unit()),(Call,Unit()),(Raise,Unit()))\r\n",
    "card = Int(3)\r\n",
    "street = Tuple(card,Array(action,4))\r\n",
    "streets = Array(street,2)\r\n",
    "\r\n",
    "args = streets,[\r\n",
    "    (0,[Call(),Raise(),Raise(),Call()]),\r\n",
    "    (2,[Call()])\r\n",
    "    ]\r\n",
    "print(timeit(lambda: serialize(*args),number=100_000))"
   ],
   "outputs": [
    {
     "output_type": "stream",
     "name": "stdout",
     "text": [
      "0.557478500000002\n"
     ]
    }
   ],
   "metadata": {}
  },
  {
   "cell_type": "markdown",
   "source": [
    "For me it take ~0.55s. Well, it is better than I expected of Python. I wonder how Spiral will do?"
   ],
   "metadata": {}
  }
 ],
 "metadata": {
  "orig_nbformat": 4,
  "language_info": {
   "name": "python",
   "version": "3.8.5",
   "mimetype": "text/x-python",
   "codemirror_mode": {
    "name": "ipython",
    "version": 3
   },
   "pygments_lexer": "ipython3",
   "nbconvert_exporter": "python",
   "file_extension": ".py"
  },
  "kernelspec": {
   "name": "python3",
   "display_name": "Python 3.8.5 64-bit ('base': conda)"
  },
  "interpreter": {
   "hash": "79a665661ef98a947020a19d2e5dd611db5fb8b6a61ad99111457019763c8719"
  }
 },
 "nbformat": 4,
 "nbformat_minor": 2
}